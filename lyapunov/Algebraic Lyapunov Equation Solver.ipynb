{
 "metadata": {
  "name": "",
  "signature": "sha256:aeaf9e3416f30b94bacec2c5d32ede72dca99a9bc25bf083be6bc12dec2257c3"
 },
 "nbformat": 3,
 "nbformat_minor": 0,
 "worksheets": [
  {
   "cells": [
    {
     "cell_type": "markdown",
     "metadata": {},
     "source": [
      "# Introduction"
     ]
    },
    {
     "cell_type": "code",
     "collapsed": false,
     "input": [
      "import numpy as np\n",
      "import sympy\n",
      "sympy.init_printing()"
     ],
     "language": "python",
     "metadata": {},
     "outputs": [],
     "prompt_number": 28
    },
    {
     "cell_type": "markdown",
     "metadata": {},
     "source": [
      "In the Lyapunov matrix problem, we are given \"dynamics\" matrix $A \\in {\\mathbb R}^d$ and a \"dissipation\" matrix $Q  \\in {\\mathbb R}^d$, and we wish to solve the _Lyapunov equation_:\n",
      "\n",
      "$AX + XA^H + Q = {\\bf 0}$\n",
      "\n",
      "to obtain $X$.\n",
      "\n",
      "(Usually, we want to check that $X$ is a positive definite matrix; then things are [good](http://en.wikipedia.org/wiki/Lyapunov_stability#Stability_for_linear_state_space_models).)"
     ]
    },
    {
     "cell_type": "markdown",
     "metadata": {},
     "source": [
      "# Example\n",
      "Let's start with the example of deciding stability of the spring-mass-damper system, whose equation of motion is\n",
      "$m \\ddot x = -k x - c \\dot x$.  (Of course, we know that the system is stable for all $m, k, c >0$.)"
     ]
    },
    {
     "cell_type": "code",
     "collapsed": false,
     "input": [
      "m, k, c = sympy.symbols('m k c')"
     ],
     "language": "python",
     "metadata": {},
     "outputs": [],
     "prompt_number": 29
    },
    {
     "cell_type": "code",
     "collapsed": false,
     "input": [
      "# dynamics matrix\n",
      "A = np.array([[ 0., 1. ], [ -k/m, -c/m ]])\n",
      "sympy.Matrix(A)"
     ],
     "language": "python",
     "metadata": {},
     "outputs": [
      {
       "latex": [
        "$$\\left[\\begin{matrix}0.0 & 1.0\\\\- \\frac{k}{m} & - \\frac{c}{m}\\end{matrix}\\right]$$"
       ],
       "metadata": {},
       "output_type": "pyout",
       "prompt_number": 30,
       "text": [
        "\u23a10.0  1.0\u23a4\n",
        "\u23a2        \u23a5\n",
        "\u23a2-k   -c \u23a5\n",
        "\u23a2\u2500\u2500\u2500  \u2500\u2500\u2500\u23a5\n",
        "\u23a3 m    m \u23a6"
       ]
      }
     ],
     "prompt_number": 30
    },
    {
     "cell_type": "markdown",
     "metadata": {},
     "source": [
      "We'll choose a pretty benign $Q$."
     ]
    },
    {
     "cell_type": "code",
     "collapsed": false,
     "input": [
      "# nominal dissipation matrix\n",
      "Q = np.eye(2)\n",
      "sympy.Matrix(Q)"
     ],
     "language": "python",
     "metadata": {},
     "outputs": [
      {
       "latex": [
        "$$\\left[\\begin{matrix}1.0 & 0.0\\\\0.0 & 1.0\\end{matrix}\\right]$$"
       ],
       "metadata": {},
       "output_type": "pyout",
       "prompt_number": 31,
       "text": [
        "\u23a11.0  0.0\u23a4\n",
        "\u23a2        \u23a5\n",
        "\u23a30.0  1.0\u23a6"
       ]
      }
     ],
     "prompt_number": 31
    },
    {
     "cell_type": "markdown",
     "metadata": {},
     "source": [
      "#Solution Method"
     ]
    },
    {
     "cell_type": "markdown",
     "metadata": {},
     "source": [
      "Because $A$ still has symbolic expressions, we cannot use our usual method:"
     ]
    },
    {
     "cell_type": "code",
     "collapsed": false,
     "input": [
      "import scipy.linalg as splin\n",
      "try :\n",
      "    X = splin.solve_lyapunov(A,Q)\n",
      "except :\n",
      "    print 'Nope.'"
     ],
     "language": "python",
     "metadata": {},
     "outputs": [
      {
       "output_type": "stream",
       "stream": "stdout",
       "text": [
        "Nope.\n"
       ]
      }
     ],
     "prompt_number": 32
    },
    {
     "cell_type": "markdown",
     "metadata": {},
     "source": [
      "So we'll solve it \"by hand\".  We don't know $X$, but since we are solving the problem algebraically, we can populate a solution matrix with dummy variables, and solve for them later.\n",
      "\n",
      "Here's a function that does the first part."
     ]
    },
    {
     "cell_type": "code",
     "collapsed": false,
     "input": [
      "def getSymbolicX(dim) :\n",
      "    X = np.zeros((dim,dim), dtype=sympy.Symbol)\n",
      "\n",
      "    import itertools\n",
      "    dummy_generator = ( sympy.Dummy( 'x%d' % i ) for i in itertools.count() )\n",
      "    \n",
      "    for i in xrange(dim) :\n",
      "        for j in xrange(i,dim) :\n",
      "            dummy = dummy_generator.next()\n",
      "            X[i,j] = dummy\n",
      "            # X is a symmetric matrix\n",
      "            if j > i : X[j,i] = dummy\n",
      "                \n",
      "    return X"
     ],
     "language": "python",
     "metadata": {},
     "outputs": [],
     "prompt_number": 33
    },
    {
     "cell_type": "markdown",
     "metadata": {},
     "source": [
      "Let's try it out."
     ]
    },
    {
     "cell_type": "code",
     "collapsed": false,
     "input": [
      "X = getSymbolicX(2)\n",
      "sympy.Matrix(X)"
     ],
     "language": "python",
     "metadata": {},
     "outputs": [
      {
       "latex": [
        "$$\\left[\\begin{matrix}x_{0} & x_{1}\\\\x_{1} & x_{2}\\end{matrix}\\right]$$"
       ],
       "metadata": {},
       "output_type": "pyout",
       "prompt_number": 34,
       "text": [
        "\u23a1x\u2080  x\u2081\u23a4\n",
        "\u23a2      \u23a5\n",
        "\u23a3x\u2081  x\u2082\u23a6"
       ]
      }
     ],
     "prompt_number": 34
    },
    {
     "cell_type": "markdown",
     "metadata": {},
     "source": [
      "Great. Now let's compute the left hand side of the Lyapunov equation."
     ]
    },
    {
     "cell_type": "code",
     "collapsed": false,
     "input": [
      "LHS = np.dot(A,X) + np.dot(X, A.conjugate().transpose() ) + Q\n",
      "sympy.Matrix(LHS)"
     ],
     "language": "python",
     "metadata": {},
     "outputs": [
      {
       "latex": [
        "$$\\left[\\begin{matrix}2.0 x_{1} + 1.0 & - \\frac{x_{0} k}{m} - \\frac{x_{1} c}{m} + 1.0 x_{2}\\\\- \\frac{x_{0} k}{m} - \\frac{x_{1} c}{m} + 1.0 x_{2} & - \\frac{2 k}{m} x_{1} - \\frac{2 c}{m} x_{2} + 1.0\\end{matrix}\\right]$$"
       ],
       "metadata": {},
       "output_type": "pyout",
       "prompt_number": 35,
       "text": [
        "\u23a1                          x\u2080\u22c5k   x\u2081\u22c5c          \u23a4\n",
        "\u23a2     2.0\u22c5x\u2081 + 1.0       - \u2500\u2500\u2500\u2500 - \u2500\u2500\u2500\u2500 + 1.0\u22c5x\u2082 \u23a5\n",
        "\u23a2                           m      m            \u23a5\n",
        "\u23a2                                               \u23a5\n",
        "\u23a2  x\u2080\u22c5k   x\u2081\u22c5c             2\u22c5x\u2081\u22c5k   2\u22c5x\u2082\u22c5c      \u23a5\n",
        "\u23a2- \u2500\u2500\u2500\u2500 - \u2500\u2500\u2500\u2500 + 1.0\u22c5x\u2082  - \u2500\u2500\u2500\u2500\u2500\u2500 - \u2500\u2500\u2500\u2500\u2500\u2500 + 1.0\u23a5\n",
        "\u23a3   m      m                 m        m         \u23a6"
       ]
      }
     ],
     "prompt_number": 35
    },
    {
     "cell_type": "markdown",
     "metadata": {},
     "source": [
      "Since this has to be the _zero_ matrix, we can now solve for the symbols we used to populate $X$."
     ]
    },
    {
     "cell_type": "markdown",
     "metadata": {},
     "source": [
      "Notice that the matrix is symmetric.  Indeed, that will _always_ be the case.  Only the upper triangle of this matrix contains unique expressions.  Here is a method that peels those out into a list. "
     ]
    },
    {
     "cell_type": "code",
     "collapsed": false,
     "input": [
      "def lyapunovMatrixToEquations(L) :\n",
      "    dim = L.shape[0]\n",
      "    \n",
      "    equations = []\n",
      "    for k in xrange(dim) :\n",
      "        equations.extend( L.diagonal(k).tolist() )\n",
      "        \n",
      "    return equations\n",
      "\n",
      "equations = lyapunovMatrixToEquations(LHS)\n",
      "equations"
     ],
     "language": "python",
     "metadata": {},
     "outputs": [
      {
       "latex": [
        "$$\\left [ 2.0 x_{1} + 1.0, \\quad - \\frac{2 k}{m} x_{1} - \\frac{2 c}{m} x_{2} + 1.0, \\quad - \\frac{x_{0} k}{m} - \\frac{x_{1} c}{m} + 1.0 x_{2}\\right ]$$"
       ],
       "metadata": {},
       "output_type": "pyout",
       "png": "[encoded data removed]",
       "prompt_number": 36,
       "text": [
        "\u23a1                2\u22c5x\u2081\u22c5k   2\u22c5x\u2082\u22c5c          x\u2080\u22c5k   x\u2081\u22c5c         \u23a4\n",
        "\u23a22.0\u22c5x\u2081 + 1.0, - \u2500\u2500\u2500\u2500\u2500\u2500 - \u2500\u2500\u2500\u2500\u2500\u2500 + 1.0, - \u2500\u2500\u2500\u2500 - \u2500\u2500\u2500\u2500 + 1.0\u22c5x\u2082\u23a5\n",
        "\u23a3                  m        m              m      m           \u23a6"
       ]
      }
     ],
     "prompt_number": 36
    },
    {
     "cell_type": "markdown",
     "metadata": {},
     "source": [
      "This is just a regular system of equations, so let's have sympy solve it. (Technically these are _expressions_, not _equations_, but sympy implicitly assumes the $=0$ part for expressions---as is convention.)"
     ]
    },
    {
     "cell_type": "code",
     "collapsed": false,
     "input": [
      "solutions = sympy.solve( equations )\n",
      "solutions"
     ],
     "language": "python",
     "metadata": {},
     "outputs": [
      {
       "latex": [
        "$$\\left [ \\left \\{ x_{0} : \\frac{1}{c k} \\left(0.5 c^{2} + 0.5 k m + 0.5 m^{2}\\right), \\quad x_{1} : -0.5, \\quad x_{2} : \\frac{1}{c} \\left(0.5 k + 0.5 m\\right)\\right \\}\\right ]$$"
       ],
       "metadata": {},
       "output_type": "pyout",
       "png": "[encoded data removed]",
       "prompt_number": 37,
       "text": [
        "\u23a1\u23a7        \u239b 2          2\u239e                           \u23ab\u23a4\n",
        "\u23a2\u23aa    0.5\u22c5\u239dc  + k\u22c5m + m \u23a0                0.5\u22c5(k + m)\u23aa\u23a5\n",
        "\u23a2\u23a8x\u2080: \u2500\u2500\u2500\u2500\u2500\u2500\u2500\u2500\u2500\u2500\u2500\u2500\u2500\u2500\u2500\u2500\u2500\u2500\u2500, x\u2081: -0.5, x\u2082: \u2500\u2500\u2500\u2500\u2500\u2500\u2500\u2500\u2500\u2500\u2500\u23ac\u23a5\n",
        "\u23a2\u23aa            c\u22c5k                             c     \u23aa\u23a5\n",
        "\u23a3\u23a9                                                  \u23ad\u23a6"
       ]
      }
     ],
     "prompt_number": 37
    },
    {
     "cell_type": "markdown",
     "metadata": {},
     "source": [
      "There is only one solution this time, but in general there could be more.  Here is a method to substitute our solution back into the matrix $X$ of dummy variables."
     ]
    },
    {
     "cell_type": "code",
     "collapsed": false,
     "input": [
      "def construct_solution_matrix(soln, dummy_matrix) :\n",
      "        substitute = np.vectorize( lambda x : soln[x] )\n",
      "        return substitute(dummy_matrix)\n",
      "    \n",
      "matrix_solutions = map( lambda soln : construct_solution_matrix(soln, X), solutions )"
     ],
     "language": "python",
     "metadata": {},
     "outputs": [],
     "prompt_number": 38
    },
    {
     "cell_type": "markdown",
     "metadata": {},
     "source": [
      "And, let's take a look at it."
     ]
    },
    {
     "cell_type": "code",
     "collapsed": false,
     "input": [
      "[ sympy.Matrix( mat ) for mat in matrix_solutions ]"
     ],
     "language": "python",
     "metadata": {},
     "outputs": [
      {
       "latex": [
        "$$\\left [ \\left[\\begin{matrix}\\frac{1}{c k} \\left(0.5 c^{2} + 0.5 k m + 0.5 m^{2}\\right) & -0.5\\\\-0.5 & \\frac{1}{c} \\left(0.5 k + 0.5 m\\right)\\end{matrix}\\right]\\right ]$$"
       ],
       "metadata": {},
       "output_type": "pyout",
       "prompt_number": 39,
       "text": [
        "\u23a1\u23a1    \u239b 2          2\u239e             \u23a4\u23a4\n",
        "\u23a2\u23a20.5\u22c5\u239dc  + k\u22c5m + m \u23a0             \u23a5\u23a5\n",
        "\u23a2\u23a2\u2500\u2500\u2500\u2500\u2500\u2500\u2500\u2500\u2500\u2500\u2500\u2500\u2500\u2500\u2500\u2500\u2500\u2500\u2500     -0.5    \u23a5\u23a5\n",
        "\u23a2\u23a2        c\u22c5k                     \u23a5\u23a5\n",
        "\u23a2\u23a2                                \u23a5\u23a5\n",
        "\u23a2\u23a2                     0.5\u22c5(k + m)\u23a5\u23a5\n",
        "\u23a2\u23a2       -0.5          \u2500\u2500\u2500\u2500\u2500\u2500\u2500\u2500\u2500\u2500\u2500\u23a5\u23a5\n",
        "\u23a3\u23a3                          c     \u23a6\u23a6"
       ]
      }
     ],
     "prompt_number": 39
    }
   ],
   "metadata": {}
  }
 ]
}